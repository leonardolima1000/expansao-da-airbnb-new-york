{
  "cells": [
    {
      "cell_type": "markdown",
      "id": "77b42efc",
      "metadata": {
        "execution": {
          "iopub.execute_input": "2024-03-17T20:52:01.501943Z",
          "iopub.status.busy": "2024-03-17T20:52:01.501514Z",
          "iopub.status.idle": "2024-03-17T20:52:03.380148Z",
          "shell.execute_reply": "2024-03-17T20:52:03.379026Z",
          "shell.execute_reply.started": "2024-03-17T20:52:01.501886Z"
        },
        "papermill": {
          "duration": 0.009763,
          "end_time": "2024-03-23T04:05:21.621012",
          "exception": false,
          "start_time": "2024-03-23T04:05:21.611249",
          "status": "completed"
        },
        "tags": [],
        "id": "77b42efc"
      },
      "source": [
        "# Simulação de análise para expansão da Airbnb em New York\n",
        "\n",
        "---"
      ]
    },
    {
      "cell_type": "markdown",
      "id": "477d8fba",
      "metadata": {
        "papermill": {
          "duration": 0.009872,
          "end_time": "2024-03-23T04:05:21.640726",
          "exception": false,
          "start_time": "2024-03-23T04:05:21.630854",
          "status": "completed"
        },
        "tags": [],
        "id": "477d8fba"
      },
      "source": [
        "# 1\\. Introdução\n",
        "\n",
        "[Airbnb, Inc.](https://www.airbnb.com.br/) é uma empresa americana que opera um mercado online para estadias e experiências em casas de família de curto e longo prazo. A empresa atua como corretora e cobra uma comissão por cada reserva."
      ]
    },
    {
      "cell_type": "markdown",
      "id": "cf7428c7",
      "metadata": {
        "papermill": {
          "duration": 0.009993,
          "end_time": "2024-03-23T04:05:21.660449",
          "exception": false,
          "start_time": "2024-03-23T04:05:21.650456",
          "status": "completed"
        },
        "tags": [],
        "id": "cf7428c7"
      },
      "source": [
        "# 2\\. Contexto\n",
        "\n",
        "### O problema de negócio:\n",
        "\n",
        "Depois de uma boa preparação, você prestou o processo seletivo para trabalhar na renomada empresa de aluguel de espaços chamada **Airbnb**. Após a primeira semana de recepção, você se junta ao time de **Cientistas de Dados** da empresa com foco em **expansão da empresa, na cidade de Nova York**, Estados Unidos.\n",
        "\n",
        "Esse **projeto de expansão é muito importante para o Airbnb**, mas também é muito arriscado. Qualquer decisão errada por parte do CEO\n",
        "pode levar a empresa a ter um prejuízo enorme.\n",
        "\n",
        "Para diminuir o risco desse projeto, o **seu chefe pediu para você auxiliar o CEO da empresa**, utilizando dados para responder algumas perguntas que o ajudarão a **tomar melhores decisões comerciais e de marketing**."
      ]
    },
    {
      "cell_type": "markdown",
      "id": "5ef72180",
      "metadata": {
        "papermill": {
          "duration": 0.010003,
          "end_time": "2024-03-23T04:05:21.680053",
          "exception": false,
          "start_time": "2024-03-23T04:05:21.670050",
          "status": "completed"
        },
        "tags": [],
        "id": "5ef72180"
      },
      "source": [
        "# 3\\. Perguntas e Respostas\n",
        "\n",
        "As perguntas e os pedidos recebidos estão apresentados a seguir e as respostas estão incluídas nos respectivos itens.<br>\n",
        "Algumas respostas podem ser observadas diretamente em suas tabelas e mapas."
      ]
    },
    {
      "cell_type": "markdown",
      "id": "30110d1e",
      "metadata": {
        "papermill": {
          "duration": 0.008935,
          "end_time": "2024-03-23T04:05:21.698294",
          "exception": false,
          "start_time": "2024-03-23T04:05:21.689359",
          "status": "completed"
        },
        "tags": [],
        "id": "30110d1e"
      },
      "source": [
        "### 3.1\\. Qual o valor médio do aluguel na cidade de Nova York?"
      ]
    },
    {
      "cell_type": "code",
      "execution_count": 9,
      "id": "8ccc3287",
      "metadata": {
        "execution": {
          "iopub.execute_input": "2024-03-23T04:05:21.718836Z",
          "iopub.status.busy": "2024-03-23T04:05:21.718168Z",
          "iopub.status.idle": "2024-03-23T04:05:23.423007Z",
          "shell.execute_reply": "2024-03-23T04:05:23.421863Z"
        },
        "papermill": {
          "duration": 1.718152,
          "end_time": "2024-03-23T04:05:23.425728",
          "exception": false,
          "start_time": "2024-03-23T04:05:21.707576",
          "status": "completed"
        },
        "tags": [],
        "id": "8ccc3287"
      },
      "outputs": [],
      "source": [
        "import pandas as pd\n",
        "import numpy as np\n",
        "import folium\n",
        "import matplotlib.pyplot as plt\n",
        "import plotly.express as px\n",
        "import os\n",
        "from IPython.display import Image, display"
      ]
    },
    {
      "cell_type": "code",
      "execution_count": 14,
      "id": "f34b8f58",
      "metadata": {
        "execution": {
          "iopub.execute_input": "2024-03-23T04:05:23.446701Z",
          "iopub.status.busy": "2024-03-23T04:05:23.446098Z",
          "iopub.status.idle": "2024-03-23T04:05:23.455772Z",
          "shell.execute_reply": "2024-03-23T04:05:23.454676Z"
        },
        "papermill": {
          "duration": 0.022523,
          "end_time": "2024-03-23T04:05:23.457991",
          "exception": false,
          "start_time": "2024-03-23T04:05:23.435468",
          "status": "completed"
        },
        "tags": [],
        "id": "f34b8f58"
      },
      "outputs": [],
      "source": [
        "dataset = 'https://github.com/leonardolima1000/expansao-da-airbnb-new-york/raw/main/ab_nyc_2019.csv'"
      ]
    },
    {
      "cell_type": "code",
      "source": [
        "data = pd.read_csv(dataset)"
      ],
      "metadata": {
        "id": "K8JtM-0yhPSi"
      },
      "id": "K8JtM-0yhPSi",
      "execution_count": 15,
      "outputs": []
    },
    {
      "cell_type": "code",
      "execution_count": 16,
      "id": "475e41a0",
      "metadata": {
        "execution": {
          "iopub.execute_input": "2024-03-23T04:05:23.741802Z",
          "iopub.status.busy": "2024-03-23T04:05:23.741223Z",
          "iopub.status.idle": "2024-03-23T04:05:23.751680Z",
          "shell.execute_reply": "2024-03-23T04:05:23.750884Z"
        },
        "papermill": {
          "duration": 0.023331,
          "end_time": "2024-03-23T04:05:23.753742",
          "exception": false,
          "start_time": "2024-03-23T04:05:23.730411",
          "status": "completed"
        },
        "tags": [],
        "colab": {
          "base_uri": "https://localhost:8080/"
        },
        "id": "475e41a0",
        "outputId": "ed622319-3dce-49c5-9923-04b442f53484"
      },
      "outputs": [
        {
          "output_type": "stream",
          "name": "stdout",
          "text": [
            "O valor médio do aluguel na cidade de Nova York é: 152.7206871868289\n"
          ]
        }
      ],
      "source": [
        "# selecionar a coluna price\n",
        "price = data.loc[:, 'price']\n",
        "\n",
        "# calcular o valor medio do preco\n",
        "valor_medio = np.mean(price)\n",
        "\n",
        "# mostrar os valores\n",
        "print(f'O valor médio do aluguel na cidade de Nova York é: {valor_medio}')"
      ]
    },
    {
      "cell_type": "markdown",
      "id": "e0dd265a",
      "metadata": {
        "papermill": {
          "duration": 0.009633,
          "end_time": "2024-03-23T04:05:23.772835",
          "exception": false,
          "start_time": "2024-03-23T04:05:23.763202",
          "status": "completed"
        },
        "tags": [],
        "id": "e0dd265a"
      },
      "source": [
        "### 3.2\\. Quais os nomes das regiões que existem na cidade de Nova York?"
      ]
    },
    {
      "cell_type": "code",
      "execution_count": 17,
      "id": "0c25feb2",
      "metadata": {
        "execution": {
          "iopub.execute_input": "2024-03-23T04:05:23.794411Z",
          "iopub.status.busy": "2024-03-23T04:05:23.793644Z",
          "iopub.status.idle": "2024-03-23T04:05:23.807159Z",
          "shell.execute_reply": "2024-03-23T04:05:23.806013Z"
        },
        "papermill": {
          "duration": 0.027085,
          "end_time": "2024-03-23T04:05:23.809590",
          "exception": false,
          "start_time": "2024-03-23T04:05:23.782505",
          "status": "completed"
        },
        "tags": [],
        "colab": {
          "base_uri": "https://localhost:8080/"
        },
        "id": "0c25feb2",
        "outputId": "bf1049a0-03d2-4814-b485-a0d854acbd00"
      },
      "outputs": [
        {
          "output_type": "stream",
          "name": "stdout",
          "text": [
            "Os nomes das regiões que existem na cidade de Nova York são: ['Brooklyn' 'Manhattan' 'Queens' 'Staten Island' 'Bronx']\n"
          ]
        }
      ],
      "source": [
        "# selecionar a coluna região\n",
        "regioes = data.loc[:, 'neighbourhood_group']\n",
        "\n",
        "# selecionar a coluna neighbourhood_group\n",
        "regioes_unicas = pd.unique(regioes)\n",
        "print(f'Os nomes das regiões que existem na cidade de Nova York são: {regioes_unicas}')"
      ]
    },
    {
      "cell_type": "markdown",
      "id": "5bcb3ff8",
      "metadata": {
        "papermill": {
          "duration": 0.009291,
          "end_time": "2024-03-23T04:05:23.828870",
          "exception": false,
          "start_time": "2024-03-23T04:05:23.819579",
          "status": "completed"
        },
        "tags": [],
        "id": "5bcb3ff8"
      },
      "source": [
        "### 3.3\\. Qual o valor do aluguel diário mais caro da cidade de Nova York?"
      ]
    },
    {
      "cell_type": "code",
      "execution_count": 18,
      "id": "751f0305",
      "metadata": {
        "execution": {
          "iopub.execute_input": "2024-03-23T04:05:23.850135Z",
          "iopub.status.busy": "2024-03-23T04:05:23.849444Z",
          "iopub.status.idle": "2024-03-23T04:05:23.855196Z",
          "shell.execute_reply": "2024-03-23T04:05:23.854129Z"
        },
        "papermill": {
          "duration": 0.018599,
          "end_time": "2024-03-23T04:05:23.857087",
          "exception": false,
          "start_time": "2024-03-23T04:05:23.838488",
          "status": "completed"
        },
        "tags": [],
        "colab": {
          "base_uri": "https://localhost:8080/"
        },
        "id": "751f0305",
        "outputId": "3c92d199-9f8a-45eb-bf67-adc2a5c13fc4"
      },
      "outputs": [
        {
          "output_type": "stream",
          "name": "stdout",
          "text": [
            "O valor do aluguel diário mais caro da cidade de Nova York é: 10000\n"
          ]
        }
      ],
      "source": [
        "# selecionar a coluna price\n",
        "price = data.loc[:, 'price']\n",
        "\n",
        "# selecionar a coluna região\n",
        "price = np.max(price)\n",
        "print(f'O valor do aluguel diário mais caro da cidade de Nova York é: {price}')"
      ]
    },
    {
      "cell_type": "markdown",
      "id": "18f1e0ae",
      "metadata": {
        "papermill": {
          "duration": 0.00921,
          "end_time": "2024-03-23T04:05:23.876002",
          "exception": false,
          "start_time": "2024-03-23T04:05:23.866792",
          "status": "completed"
        },
        "tags": [],
        "id": "18f1e0ae"
      },
      "source": [
        "### 3.4\\. Quais são as categorias de imóveis que estão cadastradas dentro da base de dados da cidade de Nova York?"
      ]
    },
    {
      "cell_type": "code",
      "execution_count": 19,
      "id": "841622c4",
      "metadata": {
        "execution": {
          "iopub.execute_input": "2024-03-23T04:05:23.897172Z",
          "iopub.status.busy": "2024-03-23T04:05:23.896099Z",
          "iopub.status.idle": "2024-03-23T04:05:23.933851Z",
          "shell.execute_reply": "2024-03-23T04:05:23.932606Z"
        },
        "papermill": {
          "duration": 0.050752,
          "end_time": "2024-03-23T04:05:23.936298",
          "exception": false,
          "start_time": "2024-03-23T04:05:23.885546",
          "status": "completed"
        },
        "tags": [],
        "colab": {
          "base_uri": "https://localhost:8080/"
        },
        "id": "841622c4",
        "outputId": "c2886ef4-c628-4922-9a78-abefa9763952"
      },
      "outputs": [
        {
          "output_type": "stream",
          "name": "stdout",
          "text": [
            "As categorias de imóveis que estão cadastradas dentro da base de dados da cidade de Nova York são: ['Entire home/apt' 'Private room' 'Shared room']\n"
          ]
        }
      ],
      "source": [
        "# selecionar o tipo de sala\n",
        "room_type = data.loc[:, 'room_type']\n",
        "\n",
        "# mostrar os valores únicos\n",
        "room_type_unique = np.unique(room_type)\n",
        "\n",
        "# mostrar os valores\n",
        "print(f'As categorias de imóveis que estão cadastradas dentro da base de dados da cidade de Nova York são: {room_type_unique}')"
      ]
    },
    {
      "cell_type": "markdown",
      "id": "c20f6196",
      "metadata": {
        "papermill": {
          "duration": 0.009453,
          "end_time": "2024-03-23T04:05:23.955655",
          "exception": false,
          "start_time": "2024-03-23T04:05:23.946202",
          "status": "completed"
        },
        "tags": [],
        "id": "c20f6196"
      },
      "source": [
        "### 3.5\\. Quantos usuários (Hosts) únicos cadastrados existem dentro da base de dados da cidade de Nova York?"
      ]
    },
    {
      "cell_type": "code",
      "execution_count": 20,
      "id": "f954269d",
      "metadata": {
        "execution": {
          "iopub.execute_input": "2024-03-23T04:05:23.976950Z",
          "iopub.status.busy": "2024-03-23T04:05:23.976217Z",
          "iopub.status.idle": "2024-03-23T04:05:23.989279Z",
          "shell.execute_reply": "2024-03-23T04:05:23.988366Z"
        },
        "papermill": {
          "duration": 0.025763,
          "end_time": "2024-03-23T04:05:23.991261",
          "exception": false,
          "start_time": "2024-03-23T04:05:23.965498",
          "status": "completed"
        },
        "tags": [],
        "colab": {
          "base_uri": "https://localhost:8080/"
        },
        "id": "f954269d",
        "outputId": "f18671f9-19d7-430f-b166-49dc81cb3abd"
      },
      "outputs": [
        {
          "output_type": "stream",
          "name": "stdout",
          "text": [
            "O número de usuários únicos existentes dentro da base de dados da cidade de Nova York é:\n"
          ]
        },
        {
          "output_type": "execute_result",
          "data": {
            "text/plain": [
              "37457"
            ]
          },
          "metadata": {},
          "execution_count": 20
        }
      ],
      "source": [
        "# selecionar a coluna host id\n",
        "host_id = data.loc[:, 'host_id']\n",
        "\n",
        "# selecionar a coluna neighbourhood_group\n",
        "host_id_unique = np.unique(host_id)\n",
        "len(host_id_unique)\n",
        "print('O número de usuários únicos existentes dentro da base de dados da cidade de Nova York é:')\n",
        "len(host_id_unique)"
      ]
    },
    {
      "cell_type": "markdown",
      "id": "4b793de3",
      "metadata": {
        "papermill": {
          "duration": 0.009889,
          "end_time": "2024-03-23T04:05:24.011164",
          "exception": false,
          "start_time": "2024-03-23T04:05:24.001275",
          "status": "completed"
        },
        "tags": [],
        "id": "4b793de3"
      },
      "source": [
        "### 3.6\\. Como é a variação do preços dos imóveis em NY?"
      ]
    },
    {
      "cell_type": "code",
      "execution_count": 21,
      "id": "feb2cb11",
      "metadata": {
        "execution": {
          "iopub.execute_input": "2024-03-23T04:05:24.033360Z",
          "iopub.status.busy": "2024-03-23T04:05:24.032299Z",
          "iopub.status.idle": "2024-03-23T04:05:24.044168Z",
          "shell.execute_reply": "2024-03-23T04:05:24.042870Z"
        },
        "papermill": {
          "duration": 0.02545,
          "end_time": "2024-03-23T04:05:24.046503",
          "exception": false,
          "start_time": "2024-03-23T04:05:24.021053",
          "status": "completed"
        },
        "tags": [],
        "colab": {
          "base_uri": "https://localhost:8080/"
        },
        "id": "feb2cb11",
        "outputId": "4a0f4823-fcf2-4dc7-d455-d5adc91019c3"
      },
      "outputs": [
        {
          "output_type": "stream",
          "name": "stdout",
          "text": [
            "A variação dos preços dos imóveis em NY em relação à média é de: \n"
          ]
        },
        {
          "output_type": "execute_result",
          "data": {
            "text/plain": [
              "240.15171391941718"
            ]
          },
          "metadata": {},
          "execution_count": 21
        }
      ],
      "source": [
        "# selecionar a coluna price\n",
        "price = data.loc[:, 'price']\n",
        "\n",
        "# calcular o desvio padrão\n",
        "desvio_padrao = np.std(price)\n",
        "print('A variação dos preços dos imóveis em NY em relação à média é de: ')\n",
        "desvio_padrao"
      ]
    },
    {
      "cell_type": "markdown",
      "id": "05dd13d7",
      "metadata": {
        "papermill": {
          "duration": 0.009921,
          "end_time": "2024-03-23T04:05:24.066774",
          "exception": false,
          "start_time": "2024-03-23T04:05:24.056853",
          "status": "completed"
        },
        "tags": [],
        "id": "05dd13d7"
      },
      "source": [
        "### 3.7\\. Existem mais imóveis baratos ou caros?"
      ]
    },
    {
      "cell_type": "code",
      "execution_count": 22,
      "id": "467a14f3",
      "metadata": {
        "execution": {
          "iopub.execute_input": "2024-03-23T04:05:24.089531Z",
          "iopub.status.busy": "2024-03-23T04:05:24.088574Z",
          "iopub.status.idle": "2024-03-23T04:05:24.417241Z",
          "shell.execute_reply": "2024-03-23T04:05:24.416367Z"
        },
        "papermill": {
          "duration": 0.342285,
          "end_time": "2024-03-23T04:05:24.419413",
          "exception": false,
          "start_time": "2024-03-23T04:05:24.077128",
          "status": "completed"
        },
        "tags": [],
        "colab": {
          "base_uri": "https://localhost:8080/",
          "height": 472
        },
        "id": "467a14f3",
        "outputId": "1eb73119-0d11-4018-e140-691ebac8e106"
      },
      "outputs": [
        {
          "output_type": "display_data",
          "data": {
            "text/plain": [
              "<Figure size 640x480 with 1 Axes>"
            ],
            "image/png": "[encoded data removed]"
          },
          "metadata": {}
        }
      ],
      "source": [
        "# selecionar a coluna price e filtrar linhas\n",
        "linhas = data.loc[:, 'price'] < 1250\n",
        "price = data.loc[linhas, 'price']\n",
        "\n",
        "# desenhar o histograma\n",
        "plt.hist( price, bins=12);\n",
        "plt.title('Preço x Quantidade de Imóveis');\n",
        "plt.xlabel('Valor dos Imóveis');\n",
        "plt.ylabel('Quantidade de Imóveis');"
      ]
    },
    {
      "cell_type": "markdown",
      "id": "7403fa67",
      "metadata": {
        "papermill": {
          "duration": 0.010563,
          "end_time": "2024-03-23T04:05:24.440758",
          "exception": false,
          "start_time": "2024-03-23T04:05:24.430195",
          "status": "completed"
        },
        "tags": [],
        "id": "7403fa67"
      },
      "source": [
        "Existem mais de 20.000 imóveis com o valor de aluguel até U$100. Ou seja, existe uma concentração de imóveis nos valores baixos de aluguel o que caracteriza a maioria como sendo imóveis mais baratos."
      ]
    },
    {
      "cell_type": "markdown",
      "id": "21e57213",
      "metadata": {
        "papermill": {
          "duration": 0.010321,
          "end_time": "2024-03-23T04:05:24.461859",
          "exception": false,
          "start_time": "2024-03-23T04:05:24.451538",
          "status": "completed"
        },
        "tags": [],
        "id": "21e57213"
      },
      "source": [
        "### 3.8\\. Qual a distribuição do número de reviews? Existem imóveis com muitos e outros com poucos reviews?"
      ]
    },
    {
      "cell_type": "code",
      "execution_count": 23,
      "id": "144d5545",
      "metadata": {
        "execution": {
          "iopub.execute_input": "2024-03-23T04:05:24.485572Z",
          "iopub.status.busy": "2024-03-23T04:05:24.484349Z",
          "iopub.status.idle": "2024-03-23T04:05:24.819537Z",
          "shell.execute_reply": "2024-03-23T04:05:24.818451Z"
        },
        "papermill": {
          "duration": 0.349487,
          "end_time": "2024-03-23T04:05:24.821949",
          "exception": false,
          "start_time": "2024-03-23T04:05:24.472462",
          "status": "completed"
        },
        "tags": [],
        "colab": {
          "base_uri": "https://localhost:8080/",
          "height": 472
        },
        "id": "144d5545",
        "outputId": "d1fa9501-3d60-471f-d6a9-2e1c53137988"
      },
      "outputs": [
        {
          "output_type": "display_data",
          "data": {
            "text/plain": [
              "<Figure size 640x480 with 1 Axes>"
            ],
            "image/png": "[encoded data removed]"
          },
          "metadata": {}
        }
      ],
      "source": [
        "# selecionar a coluna price e filtrar linhas\n",
        "linhas = data.loc[:, 'number_of_reviews'] < 300\n",
        "number_reviews = data.loc[linhas, 'number_of_reviews']\n",
        "\n",
        "# desenhar o histograma\n",
        "plt.hist(number_reviews, bins=30);\n",
        "plt.title('Reviews x Quantidade de Imóveis');\n",
        "plt.xlabel('Avaliação dos Imóveis');\n",
        "plt.ylabel('Quantidade de Imóveis');"
      ]
    },
    {
      "cell_type": "markdown",
      "id": "1d0638bd",
      "metadata": {
        "papermill": {
          "duration": 0.011459,
          "end_time": "2024-03-23T04:05:24.844797",
          "exception": false,
          "start_time": "2024-03-23T04:05:24.833338",
          "status": "completed"
        },
        "tags": [],
        "id": "1d0638bd"
      },
      "source": [
        "Existem quase 30.000 imóveis com até 10 reviews. Ou seja, existem muitos imóveis com poucas reviews."
      ]
    },
    {
      "cell_type": "markdown",
      "id": "32ab613b",
      "metadata": {
        "papermill": {
          "duration": 0.011046,
          "end_time": "2024-03-23T04:05:24.867112",
          "exception": false,
          "start_time": "2024-03-23T04:05:24.856066",
          "status": "completed"
        },
        "tags": [],
        "id": "32ab613b"
      },
      "source": [
        "### 3.9\\. Qual é o valor do aluguel (diária) mais caro de cada região da base de dados de NY?"
      ]
    },
    {
      "cell_type": "code",
      "execution_count": 26,
      "id": "cb733fdd",
      "metadata": {
        "execution": {
          "iopub.execute_input": "2024-03-23T04:05:24.891902Z",
          "iopub.status.busy": "2024-03-23T04:05:24.891510Z",
          "iopub.status.idle": "2024-03-23T04:05:26.827585Z",
          "shell.execute_reply": "2024-03-23T04:05:26.826616Z"
        },
        "papermill": {
          "duration": 1.951475,
          "end_time": "2024-03-23T04:05:26.829840",
          "exception": false,
          "start_time": "2024-03-23T04:05:24.878365",
          "status": "completed"
        },
        "tags": [],
        "colab": {
          "base_uri": "https://localhost:8080/",
          "height": 501
        },
        "id": "cb733fdd",
        "outputId": "0aa7b49b-743d-432a-e12a-5c3e139b40ac"
      },
      "outputs": [
        {
          "output_type": "display_data",
          "data": {
            "text/html": [
              "<img src=\"https://github.com/leonardolima1000/expansao-da-airbnb-new-york/raw/main/grafico_01.JPG\"/>"
            ],
            "text/plain": [
              "<IPython.core.display.Image object>"
            ]
          },
          "metadata": {}
        }
      ],
      "source": [
        "# Selecionando as linhas e colunas\n",
        "colunas = ['price', 'neighbourhood_group']\n",
        "colunas_groupby = ['neighbourhood_group']\n",
        "\n",
        "# Criando os segmentos\n",
        "data_plot = data.loc[:, colunas].groupby(colunas_groupby).max().reset_index()\n",
        "\n",
        "# Desenhando o gráfico\n",
        "px.bar(data_plot, x='neighbourhood_group', y='price',\n",
        "      labels={'neighbourhood_group': 'Bairro',\n",
        "              'price': 'Valor do Aluguel'\n",
        "    },\n",
        "    title='Aluguel mais Caro por Região')\n",
        "\n",
        "\n",
        "# Exibindo o grafico estático para visualização no github\n",
        "grafico_01 = 'https://github.com/leonardolima1000/expansao-da-airbnb-new-york/raw/main/grafico_01.JPG'\n",
        "\n",
        "display(Image(url=grafico_01))"
      ]
    },
    {
      "cell_type": "markdown",
      "id": "ccd39f48",
      "metadata": {
        "papermill": {
          "duration": 0.012023,
          "end_time": "2024-03-23T04:05:26.854129",
          "exception": false,
          "start_time": "2024-03-23T04:05:26.842106",
          "status": "completed"
        },
        "tags": [],
        "id": "ccd39f48"
      },
      "source": [
        "Os valores mais caros de cada região são:<br>\n",
        "Brooklyn, Manhattan e Queens = 10,000<br>\n",
        "Staten Island = 5,000<br>\n",
        "Bronx = 2,500"
      ]
    },
    {
      "cell_type": "markdown",
      "id": "ac142554",
      "metadata": {
        "papermill": {
          "duration": 0.011634,
          "end_time": "2024-03-23T04:05:26.877666",
          "exception": false,
          "start_time": "2024-03-23T04:05:26.866032",
          "status": "completed"
        },
        "tags": [],
        "id": "ac142554"
      },
      "source": [
        "### 3.10\\. Conseguimos saber onde estão localizados os imóveis com o valor do aluguel mais caro em NY?"
      ]
    },
    {
      "cell_type": "code",
      "execution_count": 27,
      "id": "f2fb7b61",
      "metadata": {
        "execution": {
          "iopub.execute_input": "2024-03-23T04:05:26.962565Z",
          "iopub.status.busy": "2024-03-23T04:05:26.962186Z",
          "iopub.status.idle": "2024-03-23T04:05:26.999201Z",
          "shell.execute_reply": "2024-03-23T04:05:26.998047Z"
        },
        "papermill": {
          "duration": 0.11217,
          "end_time": "2024-03-23T04:05:27.001705",
          "exception": false,
          "start_time": "2024-03-23T04:05:26.889535",
          "status": "completed"
        },
        "tags": [],
        "colab": {
          "base_uri": "https://localhost:8080/",
          "height": 492
        },
        "id": "f2fb7b61",
        "outputId": "79d55210-70b2-4c1a-9500-f1c8634f7ca4"
      },
      "outputs": [
        {
          "output_type": "display_data",
          "data": {
            "text/html": [
              "<img src=\"https://github.com/leonardolima1000/expansao-da-airbnb-new-york/blob/main/mapa_01.JPG?raw=true\"/>"
            ],
            "text/plain": [
              "<IPython.core.display.Image object>"
            ]
          },
          "metadata": {}
        }
      ],
      "source": [
        "# Selecionando linhas e colunas\n",
        "colunas = ['price', 'neighbourhood_group', 'latitude', 'longitude']\n",
        "colunas_groupby = ['neighbourhood_group']\n",
        "\n",
        "# Criando os segmentos\n",
        "data_plot = data.loc[:, colunas].groupby(colunas_groupby).max().reset_index()\n",
        "\n",
        "# Criando a área do mapa\n",
        "f = folium.Figure(width=1024, height=768)\n",
        "\n",
        "# Desenhando o mapa\n",
        "map = folium.Map(\n",
        "location=[data_plot['latitude'].mean(),\n",
        "data_plot['longitude'].mean()],\n",
        "zoom_start=14,\n",
        "control_scale=True\n",
        ")\n",
        "\n",
        "# Adicionando os pinos nos mapas\n",
        "for index, location_info in data_plot.iterrows():\n",
        "    folium.Marker([location_info['latitude'],\n",
        "                   location_info['longitude']],\n",
        "                  popup=location_info['neighbourhood_group']).add_to (map)\n",
        "\n",
        "# Mostrando o mapa\n",
        "map\n",
        "\n",
        "# Exibindo o primeiro mapa estático para visualização no github\n",
        "mapa_01 = 'https://github.com/leonardolima1000/expansao-da-airbnb-new-york/blob/main/mapa_01.JPG?raw=true'\n",
        "\n",
        "display(Image(url=mapa_01))"
      ]
    },
    {
      "cell_type": "markdown",
      "id": "fff8bc08",
      "metadata": {
        "papermill": {
          "duration": 0.011689,
          "end_time": "2024-03-23T04:05:27.025558",
          "exception": false,
          "start_time": "2024-03-23T04:05:27.013869",
          "status": "completed"
        },
        "tags": [],
        "id": "fff8bc08"
      },
      "source": [
        "### 3.11\\. Conseguimos saber onde estão localizados os imóveis pelo seu tipo?"
      ]
    },
    {
      "cell_type": "code",
      "execution_count": 29,
      "id": "027ccde5",
      "metadata": {
        "execution": {
          "iopub.execute_input": "2024-03-23T04:05:27.051497Z",
          "iopub.status.busy": "2024-03-23T04:05:27.051097Z",
          "iopub.status.idle": "2024-03-23T04:05:27.371532Z",
          "shell.execute_reply": "2024-03-23T04:05:27.370680Z"
        },
        "papermill": {
          "duration": 0.336671,
          "end_time": "2024-03-23T04:05:27.374269",
          "exception": false,
          "start_time": "2024-03-23T04:05:27.037598",
          "status": "completed"
        },
        "tags": [],
        "colab": {
          "base_uri": "https://localhost:8080/",
          "height": 518
        },
        "id": "027ccde5",
        "outputId": "4e18f706-a27f-4250-87b6-edd04388daa6"
      },
      "outputs": [
        {
          "output_type": "display_data",
          "data": {
            "text/html": [
              "<img src=\"https://github.com/leonardolima1000/expansao-da-airbnb-new-york/blob/main/mapa_02.JPG?raw=true\"/>"
            ],
            "text/plain": [
              "<IPython.core.display.Image object>"
            ]
          },
          "metadata": {}
        }
      ],
      "source": [
        "# Selecionando linhas aleatoriamente e colunas\n",
        "colunas = ['neighbourhood_group', 'room_type', 'latitude', 'longitude']\n",
        "data_plot = data.loc[:, colunas].sample(100)\n",
        "\n",
        "# Criando uma nova coluna chamada 'color'\n",
        "data_plot.loc[:, 'color'] = 'NA'\n",
        "\n",
        "# Selecionando as linhas do segmento\n",
        "linhas_private_room = data_plot.loc[:, 'room_type'] == 'Private room'\n",
        "linhas_entire_apt = data_plot.loc[:, 'room_type'] == 'Entire home/apt'\n",
        "linhas_shared_room = data_plot.loc[:, 'room_type'] == 'Shared room'\n",
        "\n",
        "# Colocando as cores para cada segmento\n",
        "data_plot.loc[linhas_private_room, 'color'] = 'darkgreen'\n",
        "data_plot.loc[linhas_entire_apt, 'color'] = 'darkred'\n",
        "data_plot.loc[linhas_shared_room, 'color'] = 'purple'\n",
        "\n",
        "# Criando a área do mapa\n",
        "map = folium.Map()\n",
        "\n",
        "# Adicionando os pins nos mapas\n",
        "for index, location_info in data_plot.iterrows():\n",
        "    folium.Marker(\n",
        "        [location_info['latitude'], location_info['longitude']],\n",
        "        popup=location_info[['neighbourhood_group', 'room_type']],\n",
        "        icon=folium.Icon( color=location_info['color'] )\n",
        "    ).add_to( map)\n",
        "\n",
        "# Exibindo o mapa\n",
        "map\n",
        "\n",
        "# Exibindo o segundo mapa estático para visualização no github\n",
        "mapa_02 = 'https://github.com/leonardolima1000/expansao-da-airbnb-new-york/blob/main/mapa_02.JPG?raw=true'\n",
        "\n",
        "display(Image(url=mapa_02))"
      ]
    },
    {
      "cell_type": "markdown",
      "id": "2efa5264",
      "metadata": {
        "papermill": {
          "duration": 0.015725,
          "end_time": "2024-03-23T04:05:27.406205",
          "exception": false,
          "start_time": "2024-03-23T04:05:27.390480",
          "status": "completed"
        },
        "tags": [],
        "id": "2efa5264"
      },
      "source": [
        "Os imóveis estão separados por cores. Foi considerado uma amostra com 100 exemplares de imóveis."
      ]
    },
    {
      "cell_type": "markdown",
      "id": "2b14a180",
      "metadata": {
        "papermill": {
          "duration": 0.015878,
          "end_time": "2024-03-23T04:05:27.438209",
          "exception": false,
          "start_time": "2024-03-23T04:05:27.422331",
          "status": "completed"
        },
        "tags": [],
        "id": "2b14a180"
      },
      "source": [
        "### 3.12\\. Qual a média de preço por região?"
      ]
    },
    {
      "cell_type": "code",
      "execution_count": 30,
      "id": "5b8d31fb",
      "metadata": {
        "execution": {
          "iopub.execute_input": "2024-03-23T04:05:27.472626Z",
          "iopub.status.busy": "2024-03-23T04:05:27.472190Z",
          "iopub.status.idle": "2024-03-23T04:05:27.497566Z",
          "shell.execute_reply": "2024-03-23T04:05:27.496476Z"
        },
        "id": "5b8d31fb",
        "outputId": "d1a7cffa-e424-496a-8b45-41dbde4d6820",
        "papermill": {
          "duration": 0.045088,
          "end_time": "2024-03-23T04:05:27.499835",
          "exception": false,
          "start_time": "2024-03-23T04:05:27.454747",
          "status": "completed"
        },
        "tags": [],
        "colab": {
          "base_uri": "https://localhost:8080/",
          "height": 206
        }
      },
      "outputs": [
        {
          "output_type": "execute_result",
          "data": {
            "text/plain": [
              "  neighbourhood_group       price\n",
              "0               Bronx   87.496792\n",
              "1            Brooklyn  124.383207\n",
              "2           Manhattan  196.875814\n",
              "3              Queens   99.517649\n",
              "4       Staten Island  114.812332"
            ],
            "text/html": [
              "\n",
              "  <div id=\"df-b4b6d841-c063-417f-96d0-1eaac5f5ee37\" class=\"colab-df-container\">\n",
              "    <div>\n",
              "<style scoped>\n",
              "    .dataframe tbody tr th:only-of-type {\n",
              "        vertical-align: middle;\n",
              "    }\n",
              "\n",
              "    .dataframe tbody tr th {\n",
              "        vertical-align: top;\n",
              "    }\n",
              "\n",
              "    .dataframe thead th {\n",
              "        text-align: right;\n",
              "    }\n",
              "</style>\n",
              "<table border=\"1\" class=\"dataframe\">\n",
              "  <thead>\n",
              "    <tr style=\"text-align: right;\">\n",
              "      <th></th>\n",
              "      <th>neighbourhood_group</th>\n",
              "      <th>price</th>\n",
              "    </tr>\n",
              "  </thead>\n",
              "  <tbody>\n",
              "    <tr>\n",
              "      <th>0</th>\n",
              "      <td>Bronx</td>\n",
              "      <td>87.496792</td>\n",
              "    </tr>\n",
              "    <tr>\n",
              "      <th>1</th>\n",
              "      <td>Brooklyn</td>\n",
              "      <td>124.383207</td>\n",
              "    </tr>\n",
              "    <tr>\n",
              "      <th>2</th>\n",
              "      <td>Manhattan</td>\n",
              "      <td>196.875814</td>\n",
              "    </tr>\n",
              "    <tr>\n",
              "      <th>3</th>\n",
              "      <td>Queens</td>\n",
              "      <td>99.517649</td>\n",
              "    </tr>\n",
              "    <tr>\n",
              "      <th>4</th>\n",
              "      <td>Staten Island</td>\n",
              "      <td>114.812332</td>\n",
              "    </tr>\n",
              "  </tbody>\n",
              "</table>\n",
              "</div>\n",
              "    <div class=\"colab-df-buttons\">\n",
              "\n",
              "  <div class=\"colab-df-container\">\n",
              "    <button class=\"colab-df-convert\" onclick=\"convertToInteractive('df-b4b6d841-c063-417f-96d0-1eaac5f5ee37')\"\n",
              "            title=\"Convert this dataframe to an interactive table.\"\n",
              "            style=\"display:none;\">\n",
              "\n",
              "  <svg xmlns=\"http://www.w3.org/2000/svg\" height=\"24px\" viewBox=\"0 -960 960 960\">\n",
              "    <path d=\"M120-120v-720h720v720H120Zm60-500h600v-160H180v160Zm220 220h160v-160H400v160Zm0 220h160v-160H400v160ZM180-400h160v-160H180v160Zm440 0h160v-160H620v160ZM180-180h160v-160H180v160Zm440 0h160v-160H620v160Z\"/>\n",
              "  </svg>\n",
              "    </button>\n",
              "\n",
              "  <style>\n",
              "    .colab-df-container {\n",
              "      display:flex;\n",
              "      gap: 12px;\n",
              "    }\n",
              "\n",
              "    .colab-df-convert {\n",
              "      background-color: #E8F0FE;\n",
              "      border: none;\n",
              "      border-radius: 50%;\n",
              "      cursor: pointer;\n",
              "      display: none;\n",
              "      fill: #1967D2;\n",
              "      height: 32px;\n",
              "      padding: 0 0 0 0;\n",
              "      width: 32px;\n",
              "    }\n",
              "\n",
              "    .colab-df-convert:hover {\n",
              "      background-color: #E2EBFA;\n",
              "      box-shadow: 0px 1px 2px rgba(60, 64, 67, 0.3), 0px 1px 3px 1px rgba(60, 64, 67, 0.15);\n",
              "      fill: #174EA6;\n",
              "    }\n",
              "\n",
              "    .colab-df-buttons div {\n",
              "      margin-bottom: 4px;\n",
              "    }\n",
              "\n",
              "    [theme=dark] .colab-df-convert {\n",
              "      background-color: #3B4455;\n",
              "      fill: #D2E3FC;\n",
              "    }\n",
              "\n",
              "    [theme=dark] .colab-df-convert:hover {\n",
              "      background-color: #434B5C;\n",
              "      box-shadow: 0px 1px 3px 1px rgba(0, 0, 0, 0.15);\n",
              "      filter: drop-shadow(0px 1px 2px rgba(0, 0, 0, 0.3));\n",
              "      fill: #FFFFFF;\n",
              "    }\n",
              "  </style>\n",
              "\n",
              "    <script>\n",
              "      const buttonEl =\n",
              "        document.querySelector('#df-b4b6d841-c063-417f-96d0-1eaac5f5ee37 button.colab-df-convert');\n",
              "      buttonEl.style.display =\n",
              "        google.colab.kernel.accessAllowed ? 'block' : 'none';\n",
              "\n",
              "      async function convertToInteractive(key) {\n",
              "        const element = document.querySelector('#df-b4b6d841-c063-417f-96d0-1eaac5f5ee37');\n",
              "        const dataTable =\n",
              "          await google.colab.kernel.invokeFunction('convertToInteractive',\n",
              "                                                    [key], {});\n",
              "        if (!dataTable) return;\n",
              "\n",
              "        const docLinkHtml = 'Like what you see? Visit the ' +\n",
              "          '<a target=\"_blank\" href=https://colab.research.google.com/notebooks/data_table.ipynb>data table notebook</a>'\n",
              "          + ' to learn more about interactive tables.';\n",
              "        element.innerHTML = '';\n",
              "        dataTable['output_type'] = 'display_data';\n",
              "        await google.colab.output.renderOutput(dataTable, element);\n",
              "        const docLink = document.createElement('div');\n",
              "        docLink.innerHTML = docLinkHtml;\n",
              "        element.appendChild(docLink);\n",
              "      }\n",
              "    </script>\n",
              "  </div>\n",
              "\n",
              "\n",
              "<div id=\"df-3038b0ad-f785-4cab-b3d0-89316fd1caee\">\n",
              "  <button class=\"colab-df-quickchart\" onclick=\"quickchart('df-3038b0ad-f785-4cab-b3d0-89316fd1caee')\"\n",
              "            title=\"Suggest charts\"\n",
              "            style=\"display:none;\">\n",
              "\n",
              "<svg xmlns=\"http://www.w3.org/2000/svg\" height=\"24px\"viewBox=\"0 0 24 24\"\n",
              "     width=\"24px\">\n",
              "    <g>\n",
              "        <path d=\"M19 3H5c-1.1 0-2 .9-2 2v14c0 1.1.9 2 2 2h14c1.1 0 2-.9 2-2V5c0-1.1-.9-2-2-2zM9 17H7v-7h2v7zm4 0h-2V7h2v10zm4 0h-2v-4h2v4z\"/>\n",
              "    </g>\n",
              "</svg>\n",
              "  </button>\n",
              "\n",
              "<style>\n",
              "  .colab-df-quickchart {\n",
              "      --bg-color: #E8F0FE;\n",
              "      --fill-color: #1967D2;\n",
              "      --hover-bg-color: #E2EBFA;\n",
              "      --hover-fill-color: #174EA6;\n",
              "      --disabled-fill-color: #AAA;\n",
              "      --disabled-bg-color: #DDD;\n",
              "  }\n",
              "\n",
              "  [theme=dark] .colab-df-quickchart {\n",
              "      --bg-color: #3B4455;\n",
              "      --fill-color: #D2E3FC;\n",
              "      --hover-bg-color: #434B5C;\n",
              "      --hover-fill-color: #FFFFFF;\n",
              "      --disabled-bg-color: #3B4455;\n",
              "      --disabled-fill-color: #666;\n",
              "  }\n",
              "\n",
              "  .colab-df-quickchart {\n",
              "    background-color: var(--bg-color);\n",
              "    border: none;\n",
              "    border-radius: 50%;\n",
              "    cursor: pointer;\n",
              "    display: none;\n",
              "    fill: var(--fill-color);\n",
              "    height: 32px;\n",
              "    padding: 0;\n",
              "    width: 32px;\n",
              "  }\n",
              "\n",
              "  .colab-df-quickchart:hover {\n",
              "    background-color: var(--hover-bg-color);\n",
              "    box-shadow: 0 1px 2px rgba(60, 64, 67, 0.3), 0 1px 3px 1px rgba(60, 64, 67, 0.15);\n",
              "    fill: var(--button-hover-fill-color);\n",
              "  }\n",
              "\n",
              "  .colab-df-quickchart-complete:disabled,\n",
              "  .colab-df-quickchart-complete:disabled:hover {\n",
              "    background-color: var(--disabled-bg-color);\n",
              "    fill: var(--disabled-fill-color);\n",
              "    box-shadow: none;\n",
              "  }\n",
              "\n",
              "  .colab-df-spinner {\n",
              "    border: 2px solid var(--fill-color);\n",
              "    border-color: transparent;\n",
              "    border-bottom-color: var(--fill-color);\n",
              "    animation:\n",
              "      spin 1s steps(1) infinite;\n",
              "  }\n",
              "\n",
              "  @keyframes spin {\n",
              "    0% {\n",
              "      border-color: transparent;\n",
              "      border-bottom-color: var(--fill-color);\n",
              "      border-left-color: var(--fill-color);\n",
              "    }\n",
              "    20% {\n",
              "      border-color: transparent;\n",
              "      border-left-color: var(--fill-color);\n",
              "      border-top-color: var(--fill-color);\n",
              "    }\n",
              "    30% {\n",
              "      border-color: transparent;\n",
              "      border-left-color: var(--fill-color);\n",
              "      border-top-color: var(--fill-color);\n",
              "      border-right-color: var(--fill-color);\n",
              "    }\n",
              "    40% {\n",
              "      border-color: transparent;\n",
              "      border-right-color: var(--fill-color);\n",
              "      border-top-color: var(--fill-color);\n",
              "    }\n",
              "    60% {\n",
              "      border-color: transparent;\n",
              "      border-right-color: var(--fill-color);\n",
              "    }\n",
              "    80% {\n",
              "      border-color: transparent;\n",
              "      border-right-color: var(--fill-color);\n",
              "      border-bottom-color: var(--fill-color);\n",
              "    }\n",
              "    90% {\n",
              "      border-color: transparent;\n",
              "      border-bottom-color: var(--fill-color);\n",
              "    }\n",
              "  }\n",
              "</style>\n",
              "\n",
              "  <script>\n",
              "    async function quickchart(key) {\n",
              "      const quickchartButtonEl =\n",
              "        document.querySelector('#' + key + ' button');\n",
              "      quickchartButtonEl.disabled = true;  // To prevent multiple clicks.\n",
              "      quickchartButtonEl.classList.add('colab-df-spinner');\n",
              "      try {\n",
              "        const charts = await google.colab.kernel.invokeFunction(\n",
              "            'suggestCharts', [key], {});\n",
              "      } catch (error) {\n",
              "        console.error('Error during call to suggestCharts:', error);\n",
              "      }\n",
              "      quickchartButtonEl.classList.remove('colab-df-spinner');\n",
              "      quickchartButtonEl.classList.add('colab-df-quickchart-complete');\n",
              "    }\n",
              "    (() => {\n",
              "      let quickchartButtonEl =\n",
              "        document.querySelector('#df-3038b0ad-f785-4cab-b3d0-89316fd1caee button');\n",
              "      quickchartButtonEl.style.display =\n",
              "        google.colab.kernel.accessAllowed ? 'block' : 'none';\n",
              "    })();\n",
              "  </script>\n",
              "</div>\n",
              "\n",
              "    </div>\n",
              "  </div>\n"
            ],
            "application/vnd.google.colaboratory.intrinsic+json": {
              "type": "dataframe",
              "summary": "{\n  \"name\": \"data\",\n  \"rows\": 5,\n  \"fields\": [\n    {\n      \"column\": \"neighbourhood_group\",\n      \"properties\": {\n        \"dtype\": \"string\",\n        \"num_unique_values\": 5,\n        \"samples\": [\n          \"Brooklyn\",\n          \"Staten Island\",\n          \"Manhattan\"\n        ],\n        \"semantic_type\": \"\",\n        \"description\": \"\"\n      }\n    },\n    {\n      \"column\": \"price\",\n      \"properties\": {\n        \"dtype\": \"number\",\n        \"std\": 42.794303298393984,\n        \"min\": 87.4967919340055,\n        \"max\": 196.8758136743456,\n        \"num_unique_values\": 5,\n        \"samples\": [\n          124.38320732192598,\n          114.81233243967829,\n          196.8758136743456\n        ],\n        \"semantic_type\": \"\",\n        \"description\": \"\"\n      }\n    }\n  ]\n}"
            }
          },
          "metadata": {},
          "execution_count": 30
        }
      ],
      "source": [
        "# selecionar colunas\n",
        "colunas = ['price', 'neighbourhood_group']\n",
        "coluna_groupby = 'neighbourhood_group'\n",
        "\n",
        "# calcular a media por regiao\n",
        "data.loc[:, colunas].groupby(coluna_groupby).mean().reset_index()"
      ]
    },
    {
      "cell_type": "markdown",
      "id": "eac782e0",
      "metadata": {
        "id": "eac782e0",
        "papermill": {
          "duration": 0.015995,
          "end_time": "2024-03-23T04:05:27.534582",
          "exception": false,
          "start_time": "2024-03-23T04:05:27.518587",
          "status": "completed"
        },
        "tags": []
      },
      "source": [
        "### 3.13\\. Qual o maior valor do aluguel por bairro e por tipo de quarto?"
      ]
    },
    {
      "cell_type": "code",
      "execution_count": 31,
      "id": "eb5f71d3",
      "metadata": {
        "execution": {
          "iopub.execute_input": "2024-03-23T04:05:27.568629Z",
          "iopub.status.busy": "2024-03-23T04:05:27.568197Z",
          "iopub.status.idle": "2024-03-23T04:05:27.596055Z",
          "shell.execute_reply": "2024-03-23T04:05:27.594870Z"
        },
        "id": "eb5f71d3",
        "outputId": "fb83c2e2-1e27-4fb5-c03f-89dc05c5d4d9",
        "papermill": {
          "duration": 0.047615,
          "end_time": "2024-03-23T04:05:27.598330",
          "exception": false,
          "start_time": "2024-03-23T04:05:27.550715",
          "status": "completed"
        },
        "tags": [],
        "colab": {
          "base_uri": "https://localhost:8080/",
          "height": 424
        }
      },
      "outputs": [
        {
          "output_type": "execute_result",
          "data": {
            "text/plain": [
              "     neighbourhood        room_type  price\n",
              "0         Allerton  Entire home/apt    450\n",
              "1         Allerton     Private room    142\n",
              "2    Arden Heights  Entire home/apt     83\n",
              "3    Arden Heights     Private room     41\n",
              "4         Arrochar  Entire home/apt    625\n",
              "..             ...              ...    ...\n",
              "535       Woodlawn      Shared room     70\n",
              "536        Woodrow  Entire home/apt    700\n",
              "537       Woodside  Entire home/apt    500\n",
              "538       Woodside     Private room    475\n",
              "539       Woodside      Shared room     65\n",
              "\n",
              "[540 rows x 3 columns]"
            ],
            "text/html": [
              "\n",
              "  <div id=\"df-1cc6a038-5bb4-44b4-a98e-891eca83865b\" class=\"colab-df-container\">\n",
              "    <div>\n",
              "<style scoped>\n",
              "    .dataframe tbody tr th:only-of-type {\n",
              "        vertical-align: middle;\n",
              "    }\n",
              "\n",
              "    .dataframe tbody tr th {\n",
              "        vertical-align: top;\n",
              "    }\n",
              "\n",
              "    .dataframe thead th {\n",
              "        text-align: right;\n",
              "    }\n",
              "</style>\n",
              "<table border=\"1\" class=\"dataframe\">\n",
              "  <thead>\n",
              "    <tr style=\"text-align: right;\">\n",
              "      <th></th>\n",
              "      <th>neighbourhood</th>\n",
              "      <th>room_type</th>\n",
              "      <th>price</th>\n",
              "    </tr>\n",
              "  </thead>\n",
              "  <tbody>\n",
              "    <tr>\n",
              "      <th>0</th>\n",
              "      <td>Allerton</td>\n",
              "      <td>Entire home/apt</td>\n",
              "      <td>450</td>\n",
              "    </tr>\n",
              "    <tr>\n",
              "      <th>1</th>\n",
              "      <td>Allerton</td>\n",
              "      <td>Private room</td>\n",
              "      <td>142</td>\n",
              "    </tr>\n",
              "    <tr>\n",
              "      <th>2</th>\n",
              "      <td>Arden Heights</td>\n",
              "      <td>Entire home/apt</td>\n",
              "      <td>83</td>\n",
              "    </tr>\n",
              "    <tr>\n",
              "      <th>3</th>\n",
              "      <td>Arden Heights</td>\n",
              "      <td>Private room</td>\n",
              "      <td>41</td>\n",
              "    </tr>\n",
              "    <tr>\n",
              "      <th>4</th>\n",
              "      <td>Arrochar</td>\n",
              "      <td>Entire home/apt</td>\n",
              "      <td>625</td>\n",
              "    </tr>\n",
              "    <tr>\n",
              "      <th>...</th>\n",
              "      <td>...</td>\n",
              "      <td>...</td>\n",
              "      <td>...</td>\n",
              "    </tr>\n",
              "    <tr>\n",
              "      <th>535</th>\n",
              "      <td>Woodlawn</td>\n",
              "      <td>Shared room</td>\n",
              "      <td>70</td>\n",
              "    </tr>\n",
              "    <tr>\n",
              "      <th>536</th>\n",
              "      <td>Woodrow</td>\n",
              "      <td>Entire home/apt</td>\n",
              "      <td>700</td>\n",
              "    </tr>\n",
              "    <tr>\n",
              "      <th>537</th>\n",
              "      <td>Woodside</td>\n",
              "      <td>Entire home/apt</td>\n",
              "      <td>500</td>\n",
              "    </tr>\n",
              "    <tr>\n",
              "      <th>538</th>\n",
              "      <td>Woodside</td>\n",
              "      <td>Private room</td>\n",
              "      <td>475</td>\n",
              "    </tr>\n",
              "    <tr>\n",
              "      <th>539</th>\n",
              "      <td>Woodside</td>\n",
              "      <td>Shared room</td>\n",
              "      <td>65</td>\n",
              "    </tr>\n",
              "  </tbody>\n",
              "</table>\n",
              "<p>540 rows × 3 columns</p>\n",
              "</div>\n",
              "    <div class=\"colab-df-buttons\">\n",
              "\n",
              "  <div class=\"colab-df-container\">\n",
              "    <button class=\"colab-df-convert\" onclick=\"convertToInteractive('df-1cc6a038-5bb4-44b4-a98e-891eca83865b')\"\n",
              "            title=\"Convert this dataframe to an interactive table.\"\n",
              "            style=\"display:none;\">\n",
              "\n",
              "  <svg xmlns=\"http://www.w3.org/2000/svg\" height=\"24px\" viewBox=\"0 -960 960 960\">\n",
              "    <path d=\"M120-120v-720h720v720H120Zm60-500h600v-160H180v160Zm220 220h160v-160H400v160Zm0 220h160v-160H400v160ZM180-400h160v-160H180v160Zm440 0h160v-160H620v160ZM180-180h160v-160H180v160Zm440 0h160v-160H620v160Z\"/>\n",
              "  </svg>\n",
              "    </button>\n",
              "\n",
              "  <style>\n",
              "    .colab-df-container {\n",
              "      display:flex;\n",
              "      gap: 12px;\n",
              "    }\n",
              "\n",
              "    .colab-df-convert {\n",
              "      background-color: #E8F0FE;\n",
              "      border: none;\n",
              "      border-radius: 50%;\n",
              "      cursor: pointer;\n",
              "      display: none;\n",
              "      fill: #1967D2;\n",
              "      height: 32px;\n",
              "      padding: 0 0 0 0;\n",
              "      width: 32px;\n",
              "    }\n",
              "\n",
              "    .colab-df-convert:hover {\n",
              "      background-color: #E2EBFA;\n",
              "      box-shadow: 0px 1px 2px rgba(60, 64, 67, 0.3), 0px 1px 3px 1px rgba(60, 64, 67, 0.15);\n",
              "      fill: #174EA6;\n",
              "    }\n",
              "\n",
              "    .colab-df-buttons div {\n",
              "      margin-bottom: 4px;\n",
              "    }\n",
              "\n",
              "    [theme=dark] .colab-df-convert {\n",
              "      background-color: #3B4455;\n",
              "      fill: #D2E3FC;\n",
              "    }\n",
              "\n",
              "    [theme=dark] .colab-df-convert:hover {\n",
              "      background-color: #434B5C;\n",
              "      box-shadow: 0px 1px 3px 1px rgba(0, 0, 0, 0.15);\n",
              "      filter: drop-shadow(0px 1px 2px rgba(0, 0, 0, 0.3));\n",
              "      fill: #FFFFFF;\n",
              "    }\n",
              "  </style>\n",
              "\n",
              "    <script>\n",
              "      const buttonEl =\n",
              "        document.querySelector('#df-1cc6a038-5bb4-44b4-a98e-891eca83865b button.colab-df-convert');\n",
              "      buttonEl.style.display =\n",
              "        google.colab.kernel.accessAllowed ? 'block' : 'none';\n",
              "\n",
              "      async function convertToInteractive(key) {\n",
              "        const element = document.querySelector('#df-1cc6a038-5bb4-44b4-a98e-891eca83865b');\n",
              "        const dataTable =\n",
              "          await google.colab.kernel.invokeFunction('convertToInteractive',\n",
              "                                                    [key], {});\n",
              "        if (!dataTable) return;\n",
              "\n",
              "        const docLinkHtml = 'Like what you see? Visit the ' +\n",
              "          '<a target=\"_blank\" href=https://colab.research.google.com/notebooks/data_table.ipynb>data table notebook</a>'\n",
              "          + ' to learn more about interactive tables.';\n",
              "        element.innerHTML = '';\n",
              "        dataTable['output_type'] = 'display_data';\n",
              "        await google.colab.output.renderOutput(dataTable, element);\n",
              "        const docLink = document.createElement('div');\n",
              "        docLink.innerHTML = docLinkHtml;\n",
              "        element.appendChild(docLink);\n",
              "      }\n",
              "    </script>\n",
              "  </div>\n",
              "\n",
              "\n",
              "<div id=\"df-8bdd5ee7-b275-421e-ba81-aef29b687516\">\n",
              "  <button class=\"colab-df-quickchart\" onclick=\"quickchart('df-8bdd5ee7-b275-421e-ba81-aef29b687516')\"\n",
              "            title=\"Suggest charts\"\n",
              "            style=\"display:none;\">\n",
              "\n",
              "<svg xmlns=\"http://www.w3.org/2000/svg\" height=\"24px\"viewBox=\"0 0 24 24\"\n",
              "     width=\"24px\">\n",
              "    <g>\n",
              "        <path d=\"M19 3H5c-1.1 0-2 .9-2 2v14c0 1.1.9 2 2 2h14c1.1 0 2-.9 2-2V5c0-1.1-.9-2-2-2zM9 17H7v-7h2v7zm4 0h-2V7h2v10zm4 0h-2v-4h2v4z\"/>\n",
              "    </g>\n",
              "</svg>\n",
              "  </button>\n",
              "\n",
              "<style>\n",
              "  .colab-df-quickchart {\n",
              "      --bg-color: #E8F0FE;\n",
              "      --fill-color: #1967D2;\n",
              "      --hover-bg-color: #E2EBFA;\n",
              "      --hover-fill-color: #174EA6;\n",
              "      --disabled-fill-color: #AAA;\n",
              "      --disabled-bg-color: #DDD;\n",
              "  }\n",
              "\n",
              "  [theme=dark] .colab-df-quickchart {\n",
              "      --bg-color: #3B4455;\n",
              "      --fill-color: #D2E3FC;\n",
              "      --hover-bg-color: #434B5C;\n",
              "      --hover-fill-color: #FFFFFF;\n",
              "      --disabled-bg-color: #3B4455;\n",
              "      --disabled-fill-color: #666;\n",
              "  }\n",
              "\n",
              "  .colab-df-quickchart {\n",
              "    background-color: var(--bg-color);\n",
              "    border: none;\n",
              "    border-radius: 50%;\n",
              "    cursor: pointer;\n",
              "    display: none;\n",
              "    fill: var(--fill-color);\n",
              "    height: 32px;\n",
              "    padding: 0;\n",
              "    width: 32px;\n",
              "  }\n",
              "\n",
              "  .colab-df-quickchart:hover {\n",
              "    background-color: var(--hover-bg-color);\n",
              "    box-shadow: 0 1px 2px rgba(60, 64, 67, 0.3), 0 1px 3px 1px rgba(60, 64, 67, 0.15);\n",
              "    fill: var(--button-hover-fill-color);\n",
              "  }\n",
              "\n",
              "  .colab-df-quickchart-complete:disabled,\n",
              "  .colab-df-quickchart-complete:disabled:hover {\n",
              "    background-color: var(--disabled-bg-color);\n",
              "    fill: var(--disabled-fill-color);\n",
              "    box-shadow: none;\n",
              "  }\n",
              "\n",
              "  .colab-df-spinner {\n",
              "    border: 2px solid var(--fill-color);\n",
              "    border-color: transparent;\n",
              "    border-bottom-color: var(--fill-color);\n",
              "    animation:\n",
              "      spin 1s steps(1) infinite;\n",
              "  }\n",
              "\n",
              "  @keyframes spin {\n",
              "    0% {\n",
              "      border-color: transparent;\n",
              "      border-bottom-color: var(--fill-color);\n",
              "      border-left-color: var(--fill-color);\n",
              "    }\n",
              "    20% {\n",
              "      border-color: transparent;\n",
              "      border-left-color: var(--fill-color);\n",
              "      border-top-color: var(--fill-color);\n",
              "    }\n",
              "    30% {\n",
              "      border-color: transparent;\n",
              "      border-left-color: var(--fill-color);\n",
              "      border-top-color: var(--fill-color);\n",
              "      border-right-color: var(--fill-color);\n",
              "    }\n",
              "    40% {\n",
              "      border-color: transparent;\n",
              "      border-right-color: var(--fill-color);\n",
              "      border-top-color: var(--fill-color);\n",
              "    }\n",
              "    60% {\n",
              "      border-color: transparent;\n",
              "      border-right-color: var(--fill-color);\n",
              "    }\n",
              "    80% {\n",
              "      border-color: transparent;\n",
              "      border-right-color: var(--fill-color);\n",
              "      border-bottom-color: var(--fill-color);\n",
              "    }\n",
              "    90% {\n",
              "      border-color: transparent;\n",
              "      border-bottom-color: var(--fill-color);\n",
              "    }\n",
              "  }\n",
              "</style>\n",
              "\n",
              "  <script>\n",
              "    async function quickchart(key) {\n",
              "      const quickchartButtonEl =\n",
              "        document.querySelector('#' + key + ' button');\n",
              "      quickchartButtonEl.disabled = true;  // To prevent multiple clicks.\n",
              "      quickchartButtonEl.classList.add('colab-df-spinner');\n",
              "      try {\n",
              "        const charts = await google.colab.kernel.invokeFunction(\n",
              "            'suggestCharts', [key], {});\n",
              "      } catch (error) {\n",
              "        console.error('Error during call to suggestCharts:', error);\n",
              "      }\n",
              "      quickchartButtonEl.classList.remove('colab-df-spinner');\n",
              "      quickchartButtonEl.classList.add('colab-df-quickchart-complete');\n",
              "    }\n",
              "    (() => {\n",
              "      let quickchartButtonEl =\n",
              "        document.querySelector('#df-8bdd5ee7-b275-421e-ba81-aef29b687516 button');\n",
              "      quickchartButtonEl.style.display =\n",
              "        google.colab.kernel.accessAllowed ? 'block' : 'none';\n",
              "    })();\n",
              "  </script>\n",
              "</div>\n",
              "\n",
              "    </div>\n",
              "  </div>\n"
            ],
            "application/vnd.google.colaboratory.intrinsic+json": {
              "type": "dataframe",
              "summary": "{\n  \"name\": \"data\",\n  \"rows\": 540,\n  \"fields\": [\n    {\n      \"column\": \"neighbourhood\",\n      \"properties\": {\n        \"dtype\": \"category\",\n        \"num_unique_values\": 221,\n        \"samples\": [\n          \"Morris Park\",\n          \"Oakwood\",\n          \"Grymes Hill\"\n        ],\n        \"semantic_type\": \"\",\n        \"description\": \"\"\n      }\n    },\n    {\n      \"column\": \"room_type\",\n      \"properties\": {\n        \"dtype\": \"category\",\n        \"num_unique_values\": 3,\n        \"samples\": [\n          \"Entire home/apt\",\n          \"Private room\",\n          \"Shared room\"\n        ],\n        \"semantic_type\": \"\",\n        \"description\": \"\"\n      }\n    },\n    {\n      \"column\": \"price\",\n      \"properties\": {\n        \"dtype\": \"number\",\n        \"std\": 1555,\n        \"min\": 13,\n        \"max\": 10000,\n        \"num_unique_values\": 183,\n        \"samples\": [\n          99,\n          50,\n          4000\n        ],\n        \"semantic_type\": \"\",\n        \"description\": \"\"\n      }\n    }\n  ]\n}"
            }
          },
          "metadata": {},
          "execution_count": 31
        }
      ],
      "source": [
        "# selecionar colunas\n",
        "colunas = ['price', 'neighbourhood', 'room_type']\n",
        "colunas_groupby = ['neighbourhood', 'room_type']\n",
        "\n",
        "# calcular max do preço do aluguel por bairro e tipo de quarto\n",
        "data.loc[:, colunas].groupby(colunas_groupby).max().reset_index()"
      ]
    },
    {
      "cell_type": "markdown",
      "id": "e56df566",
      "metadata": {
        "id": "e56df566",
        "papermill": {
          "duration": 0.016101,
          "end_time": "2024-03-23T04:05:27.631464",
          "exception": false,
          "start_time": "2024-03-23T04:05:27.615363",
          "status": "completed"
        },
        "tags": []
      },
      "source": [
        "### 3.14\\. Qual o menor valor de latitude por região?"
      ]
    },
    {
      "cell_type": "code",
      "execution_count": 32,
      "id": "e3d46d50",
      "metadata": {
        "execution": {
          "iopub.execute_input": "2024-03-23T04:05:27.665841Z",
          "iopub.status.busy": "2024-03-23T04:05:27.665373Z",
          "iopub.status.idle": "2024-03-23T04:05:27.685216Z",
          "shell.execute_reply": "2024-03-23T04:05:27.684329Z"
        },
        "id": "e3d46d50",
        "outputId": "a0b18251-2da7-44d7-e8da-be51bc072976",
        "papermill": {
          "duration": 0.039535,
          "end_time": "2024-03-23T04:05:27.687228",
          "exception": false,
          "start_time": "2024-03-23T04:05:27.647693",
          "status": "completed"
        },
        "tags": [],
        "colab": {
          "base_uri": "https://localhost:8080/",
          "height": 206
        }
      },
      "outputs": [
        {
          "output_type": "execute_result",
          "data": {
            "text/plain": [
              "  neighbourhood_group  latitude\n",
              "0               Bronx  40.80011\n",
              "1            Brooklyn  40.57115\n",
              "2           Manhattan  40.70234\n",
              "3              Queens  40.56546\n",
              "4       Staten Island  40.49979"
            ],
            "text/html": [
              "\n",
              "  <div id=\"df-95638422-1c8f-42f5-914e-a7866750bb1a\" class=\"colab-df-container\">\n",
              "    <div>\n",
              "<style scoped>\n",
              "    .dataframe tbody tr th:only-of-type {\n",
              "        vertical-align: middle;\n",
              "    }\n",
              "\n",
              "    .dataframe tbody tr th {\n",
              "        vertical-align: top;\n",
              "    }\n",
              "\n",
              "    .dataframe thead th {\n",
              "        text-align: right;\n",
              "    }\n",
              "</style>\n",
              "<table border=\"1\" class=\"dataframe\">\n",
              "  <thead>\n",
              "    <tr style=\"text-align: right;\">\n",
              "      <th></th>\n",
              "      <th>neighbourhood_group</th>\n",
              "      <th>latitude</th>\n",
              "    </tr>\n",
              "  </thead>\n",
              "  <tbody>\n",
              "    <tr>\n",
              "      <th>0</th>\n",
              "      <td>Bronx</td>\n",
              "      <td>40.80011</td>\n",
              "    </tr>\n",
              "    <tr>\n",
              "      <th>1</th>\n",
              "      <td>Brooklyn</td>\n",
              "      <td>40.57115</td>\n",
              "    </tr>\n",
              "    <tr>\n",
              "      <th>2</th>\n",
              "      <td>Manhattan</td>\n",
              "      <td>40.70234</td>\n",
              "    </tr>\n",
              "    <tr>\n",
              "      <th>3</th>\n",
              "      <td>Queens</td>\n",
              "      <td>40.56546</td>\n",
              "    </tr>\n",
              "    <tr>\n",
              "      <th>4</th>\n",
              "      <td>Staten Island</td>\n",
              "      <td>40.49979</td>\n",
              "    </tr>\n",
              "  </tbody>\n",
              "</table>\n",
              "</div>\n",
              "    <div class=\"colab-df-buttons\">\n",
              "\n",
              "  <div class=\"colab-df-container\">\n",
              "    <button class=\"colab-df-convert\" onclick=\"convertToInteractive('df-95638422-1c8f-42f5-914e-a7866750bb1a')\"\n",
              "            title=\"Convert this dataframe to an interactive table.\"\n",
              "            style=\"display:none;\">\n",
              "\n",
              "  <svg xmlns=\"http://www.w3.org/2000/svg\" height=\"24px\" viewBox=\"0 -960 960 960\">\n",
              "    <path d=\"M120-120v-720h720v720H120Zm60-500h600v-160H180v160Zm220 220h160v-160H400v160Zm0 220h160v-160H400v160ZM180-400h160v-160H180v160Zm440 0h160v-160H620v160ZM180-180h160v-160H180v160Zm440 0h160v-160H620v160Z\"/>\n",
              "  </svg>\n",
              "    </button>\n",
              "\n",
              "  <style>\n",
              "    .colab-df-container {\n",
              "      display:flex;\n",
              "      gap: 12px;\n",
              "    }\n",
              "\n",
              "    .colab-df-convert {\n",
              "      background-color: #E8F0FE;\n",
              "      border: none;\n",
              "      border-radius: 50%;\n",
              "      cursor: pointer;\n",
              "      display: none;\n",
              "      fill: #1967D2;\n",
              "      height: 32px;\n",
              "      padding: 0 0 0 0;\n",
              "      width: 32px;\n",
              "    }\n",
              "\n",
              "    .colab-df-convert:hover {\n",
              "      background-color: #E2EBFA;\n",
              "      box-shadow: 0px 1px 2px rgba(60, 64, 67, 0.3), 0px 1px 3px 1px rgba(60, 64, 67, 0.15);\n",
              "      fill: #174EA6;\n",
              "    }\n",
              "\n",
              "    .colab-df-buttons div {\n",
              "      margin-bottom: 4px;\n",
              "    }\n",
              "\n",
              "    [theme=dark] .colab-df-convert {\n",
              "      background-color: #3B4455;\n",
              "      fill: #D2E3FC;\n",
              "    }\n",
              "\n",
              "    [theme=dark] .colab-df-convert:hover {\n",
              "      background-color: #434B5C;\n",
              "      box-shadow: 0px 1px 3px 1px rgba(0, 0, 0, 0.15);\n",
              "      filter: drop-shadow(0px 1px 2px rgba(0, 0, 0, 0.3));\n",
              "      fill: #FFFFFF;\n",
              "    }\n",
              "  </style>\n",
              "\n",
              "    <script>\n",
              "      const buttonEl =\n",
              "        document.querySelector('#df-95638422-1c8f-42f5-914e-a7866750bb1a button.colab-df-convert');\n",
              "      buttonEl.style.display =\n",
              "        google.colab.kernel.accessAllowed ? 'block' : 'none';\n",
              "\n",
              "      async function convertToInteractive(key) {\n",
              "        const element = document.querySelector('#df-95638422-1c8f-42f5-914e-a7866750bb1a');\n",
              "        const dataTable =\n",
              "          await google.colab.kernel.invokeFunction('convertToInteractive',\n",
              "                                                    [key], {});\n",
              "        if (!dataTable) return;\n",
              "\n",
              "        const docLinkHtml = 'Like what you see? Visit the ' +\n",
              "          '<a target=\"_blank\" href=https://colab.research.google.com/notebooks/data_table.ipynb>data table notebook</a>'\n",
              "          + ' to learn more about interactive tables.';\n",
              "        element.innerHTML = '';\n",
              "        dataTable['output_type'] = 'display_data';\n",
              "        await google.colab.output.renderOutput(dataTable, element);\n",
              "        const docLink = document.createElement('div');\n",
              "        docLink.innerHTML = docLinkHtml;\n",
              "        element.appendChild(docLink);\n",
              "      }\n",
              "    </script>\n",
              "  </div>\n",
              "\n",
              "\n",
              "<div id=\"df-79574daa-851a-405c-b125-8f4f519937b7\">\n",
              "  <button class=\"colab-df-quickchart\" onclick=\"quickchart('df-79574daa-851a-405c-b125-8f4f519937b7')\"\n",
              "            title=\"Suggest charts\"\n",
              "            style=\"display:none;\">\n",
              "\n",
              "<svg xmlns=\"http://www.w3.org/2000/svg\" height=\"24px\"viewBox=\"0 0 24 24\"\n",
              "     width=\"24px\">\n",
              "    <g>\n",
              "        <path d=\"M19 3H5c-1.1 0-2 .9-2 2v14c0 1.1.9 2 2 2h14c1.1 0 2-.9 2-2V5c0-1.1-.9-2-2-2zM9 17H7v-7h2v7zm4 0h-2V7h2v10zm4 0h-2v-4h2v4z\"/>\n",
              "    </g>\n",
              "</svg>\n",
              "  </button>\n",
              "\n",
              "<style>\n",
              "  .colab-df-quickchart {\n",
              "      --bg-color: #E8F0FE;\n",
              "      --fill-color: #1967D2;\n",
              "      --hover-bg-color: #E2EBFA;\n",
              "      --hover-fill-color: #174EA6;\n",
              "      --disabled-fill-color: #AAA;\n",
              "      --disabled-bg-color: #DDD;\n",
              "  }\n",
              "\n",
              "  [theme=dark] .colab-df-quickchart {\n",
              "      --bg-color: #3B4455;\n",
              "      --fill-color: #D2E3FC;\n",
              "      --hover-bg-color: #434B5C;\n",
              "      --hover-fill-color: #FFFFFF;\n",
              "      --disabled-bg-color: #3B4455;\n",
              "      --disabled-fill-color: #666;\n",
              "  }\n",
              "\n",
              "  .colab-df-quickchart {\n",
              "    background-color: var(--bg-color);\n",
              "    border: none;\n",
              "    border-radius: 50%;\n",
              "    cursor: pointer;\n",
              "    display: none;\n",
              "    fill: var(--fill-color);\n",
              "    height: 32px;\n",
              "    padding: 0;\n",
              "    width: 32px;\n",
              "  }\n",
              "\n",
              "  .colab-df-quickchart:hover {\n",
              "    background-color: var(--hover-bg-color);\n",
              "    box-shadow: 0 1px 2px rgba(60, 64, 67, 0.3), 0 1px 3px 1px rgba(60, 64, 67, 0.15);\n",
              "    fill: var(--button-hover-fill-color);\n",
              "  }\n",
              "\n",
              "  .colab-df-quickchart-complete:disabled,\n",
              "  .colab-df-quickchart-complete:disabled:hover {\n",
              "    background-color: var(--disabled-bg-color);\n",
              "    fill: var(--disabled-fill-color);\n",
              "    box-shadow: none;\n",
              "  }\n",
              "\n",
              "  .colab-df-spinner {\n",
              "    border: 2px solid var(--fill-color);\n",
              "    border-color: transparent;\n",
              "    border-bottom-color: var(--fill-color);\n",
              "    animation:\n",
              "      spin 1s steps(1) infinite;\n",
              "  }\n",
              "\n",
              "  @keyframes spin {\n",
              "    0% {\n",
              "      border-color: transparent;\n",
              "      border-bottom-color: var(--fill-color);\n",
              "      border-left-color: var(--fill-color);\n",
              "    }\n",
              "    20% {\n",
              "      border-color: transparent;\n",
              "      border-left-color: var(--fill-color);\n",
              "      border-top-color: var(--fill-color);\n",
              "    }\n",
              "    30% {\n",
              "      border-color: transparent;\n",
              "      border-left-color: var(--fill-color);\n",
              "      border-top-color: var(--fill-color);\n",
              "      border-right-color: var(--fill-color);\n",
              "    }\n",
              "    40% {\n",
              "      border-color: transparent;\n",
              "      border-right-color: var(--fill-color);\n",
              "      border-top-color: var(--fill-color);\n",
              "    }\n",
              "    60% {\n",
              "      border-color: transparent;\n",
              "      border-right-color: var(--fill-color);\n",
              "    }\n",
              "    80% {\n",
              "      border-color: transparent;\n",
              "      border-right-color: var(--fill-color);\n",
              "      border-bottom-color: var(--fill-color);\n",
              "    }\n",
              "    90% {\n",
              "      border-color: transparent;\n",
              "      border-bottom-color: var(--fill-color);\n",
              "    }\n",
              "  }\n",
              "</style>\n",
              "\n",
              "  <script>\n",
              "    async function quickchart(key) {\n",
              "      const quickchartButtonEl =\n",
              "        document.querySelector('#' + key + ' button');\n",
              "      quickchartButtonEl.disabled = true;  // To prevent multiple clicks.\n",
              "      quickchartButtonEl.classList.add('colab-df-spinner');\n",
              "      try {\n",
              "        const charts = await google.colab.kernel.invokeFunction(\n",
              "            'suggestCharts', [key], {});\n",
              "      } catch (error) {\n",
              "        console.error('Error during call to suggestCharts:', error);\n",
              "      }\n",
              "      quickchartButtonEl.classList.remove('colab-df-spinner');\n",
              "      quickchartButtonEl.classList.add('colab-df-quickchart-complete');\n",
              "    }\n",
              "    (() => {\n",
              "      let quickchartButtonEl =\n",
              "        document.querySelector('#df-79574daa-851a-405c-b125-8f4f519937b7 button');\n",
              "      quickchartButtonEl.style.display =\n",
              "        google.colab.kernel.accessAllowed ? 'block' : 'none';\n",
              "    })();\n",
              "  </script>\n",
              "</div>\n",
              "\n",
              "    </div>\n",
              "  </div>\n"
            ],
            "application/vnd.google.colaboratory.intrinsic+json": {
              "type": "dataframe",
              "summary": "{\n  \"name\": \"data\",\n  \"rows\": 5,\n  \"fields\": [\n    {\n      \"column\": \"neighbourhood_group\",\n      \"properties\": {\n        \"dtype\": \"string\",\n        \"num_unique_values\": 5,\n        \"samples\": [\n          \"Brooklyn\",\n          \"Staten Island\",\n          \"Manhattan\"\n        ],\n        \"semantic_type\": \"\",\n        \"description\": \"\"\n      }\n    },\n    {\n      \"column\": \"latitude\",\n      \"properties\": {\n        \"dtype\": \"number\",\n        \"std\": 0.12117033609757681,\n        \"min\": 40.49979,\n        \"max\": 40.80011,\n        \"num_unique_values\": 5,\n        \"samples\": [\n          40.57115,\n          40.49979,\n          40.70234\n        ],\n        \"semantic_type\": \"\",\n        \"description\": \"\"\n      }\n    }\n  ]\n}"
            }
          },
          "metadata": {},
          "execution_count": 32
        }
      ],
      "source": [
        "# selecionar colunas\n",
        "colunas = ['latitude', 'neighbourhood_group']\n",
        "colunas_groupby = ['neighbourhood_group']\n",
        "\n",
        "# calcular min das latitudes por regiao\n",
        "data.loc[:, colunas].groupby(colunas_groupby).min().reset_index()"
      ]
    },
    {
      "cell_type": "markdown",
      "id": "6a6d7174",
      "metadata": {
        "id": "6a6d7174",
        "papermill": {
          "duration": 0.016139,
          "end_time": "2024-03-23T04:05:27.720027",
          "exception": false,
          "start_time": "2024-03-23T04:05:27.703888",
          "status": "completed"
        },
        "tags": []
      },
      "source": [
        "### 3.15\\. Faça um histograma somente com os proprietários que possuem mais de um imóvel listado na base de dados de NY"
      ]
    },
    {
      "cell_type": "code",
      "execution_count": 33,
      "id": "179dc04a",
      "metadata": {
        "execution": {
          "iopub.execute_input": "2024-03-23T04:05:27.755665Z",
          "iopub.status.busy": "2024-03-23T04:05:27.754958Z",
          "iopub.status.idle": "2024-03-23T04:05:28.110672Z",
          "shell.execute_reply": "2024-03-23T04:05:28.109571Z"
        },
        "id": "179dc04a",
        "outputId": "620c2e48-f979-4fc8-bfde-76d110f6dcc6",
        "papermill": {
          "duration": 0.376721,
          "end_time": "2024-03-23T04:05:28.113086",
          "exception": false,
          "start_time": "2024-03-23T04:05:27.736365",
          "status": "completed"
        },
        "tags": [],
        "colab": {
          "base_uri": "https://localhost:8080/",
          "height": 472
        }
      },
      "outputs": [
        {
          "output_type": "display_data",
          "data": {
            "text/plain": [
              "<Figure size 640x480 with 1 Axes>"
            ],
            "image/png": "[encoded data removed]"
          },
          "metadata": {}
        }
      ],
      "source": [
        "# selecionar colunas\n",
        "colunas = ['host_id', 'calculated_host_listings_count']\n",
        "\n",
        "# selecionar linhas com prorpietarios com mais de 1 imovel\n",
        "linhas = data.loc[:, 'calculated_host_listings_count'] > 1\n",
        "\n",
        "# selecionar dados que vao entrar no histograma\n",
        "data_plot = data.loc[linhas, 'calculated_host_listings_count']\n",
        "\n",
        "# fazer histograma\n",
        "plt.hist(data_plot, bins=35);\n",
        "plt.title('Distribuição de proprietários por Imóveis');\n",
        "plt.xlabel('Quantidade de Imóveis');\n",
        "plt.ylabel('Quantidade de Proprietários');\n"
      ]
    },
    {
      "cell_type": "markdown",
      "id": "c39459c8",
      "metadata": {
        "id": "c39459c8",
        "papermill": {
          "duration": 0.016601,
          "end_time": "2024-03-23T04:05:28.146814",
          "exception": false,
          "start_time": "2024-03-23T04:05:28.130213",
          "status": "completed"
        },
        "tags": []
      },
      "source": [
        "### 3.16\\. Desenhe um mapa com os imóveis mais baratos por região."
      ]
    },
    {
      "cell_type": "code",
      "execution_count": 35,
      "id": "8e245cb4",
      "metadata": {
        "execution": {
          "iopub.execute_input": "2024-03-23T04:05:28.182731Z",
          "iopub.status.busy": "2024-03-23T04:05:28.182286Z",
          "iopub.status.idle": "2024-03-23T04:05:28.215378Z",
          "shell.execute_reply": "2024-03-23T04:05:28.214282Z"
        },
        "id": "8e245cb4",
        "outputId": "3ae33e18-a959-4409-ca3b-38e46d89c168",
        "papermill": {
          "duration": 0.05389,
          "end_time": "2024-03-23T04:05:28.217698",
          "exception": false,
          "start_time": "2024-03-23T04:05:28.163808",
          "status": "completed"
        },
        "tags": [],
        "colab": {
          "base_uri": "https://localhost:8080/",
          "height": 504
        }
      },
      "outputs": [
        {
          "output_type": "display_data",
          "data": {
            "text/html": [
              "<img src=\"https://github.com/leonardolima1000/expansao-da-airbnb-new-york/blob/main/mapa_03.JPG?raw=true\"/>"
            ],
            "text/plain": [
              "<IPython.core.display.Image object>"
            ]
          },
          "metadata": {}
        }
      ],
      "source": [
        "# selecionar colunas\n",
        "colunas = ['price', 'neighbourhood_group', 'latitude', 'longitude']\n",
        "colunas_groupby = ['neighbourhood_group']\n",
        "\n",
        "# criar os segmentos\n",
        "data_plot = data.loc[:, colunas].groupby(colunas_groupby).min().reset_index()\n",
        "\n",
        "# criar a área do mapa\n",
        "# f = folium.Figure (width=1024, height=768)\n",
        "\n",
        "# desenhar o mapa\n",
        "map = folium.Map()\n",
        "\n",
        "# adicionar os pinos nos mapas\n",
        "for index, location_info in data_plot.iterrows():\n",
        "  folium.Marker([location_info['latitude'],\n",
        "  location_info['longitude']],\n",
        "  popup=location_info['neighbourhood_group']).add_to(map)\n",
        "\n",
        "# mostrar o mapa\n",
        "map\n",
        "\n",
        "# Exibindo o terceiro mapa estático para visualização no github\n",
        "mapa_03 = 'https://github.com/leonardolima1000/expansao-da-airbnb-new-york/blob/main/mapa_03.JPG?raw=true'\n",
        "\n",
        "display(Image(url=mapa_03))"
      ]
    },
    {
      "cell_type": "markdown",
      "id": "f13a8d11",
      "metadata": {
        "id": "f13a8d11",
        "papermill": {
          "duration": 0.0173,
          "end_time": "2024-03-23T04:05:28.252590",
          "exception": false,
          "start_time": "2024-03-23T04:05:28.235290",
          "status": "completed"
        },
        "tags": []
      },
      "source": [
        "### 3.17\\. Desenhe um mapa com os imóveis que possuem o maior número de avaliações por região."
      ]
    },
    {
      "cell_type": "code",
      "execution_count": 37,
      "id": "e2456b51",
      "metadata": {
        "execution": {
          "iopub.execute_input": "2024-03-23T04:05:28.291138Z",
          "iopub.status.busy": "2024-03-23T04:05:28.290711Z",
          "iopub.status.idle": "2024-03-23T04:05:28.323323Z",
          "shell.execute_reply": "2024-03-23T04:05:28.322177Z"
        },
        "id": "e2456b51",
        "outputId": "24e1deb5-9f54-421f-ae68-d50a83b6cc7d",
        "papermill": {
          "duration": 0.055087,
          "end_time": "2024-03-23T04:05:28.325621",
          "exception": false,
          "start_time": "2024-03-23T04:05:28.270534",
          "status": "completed"
        },
        "tags": [],
        "colab": {
          "base_uri": "https://localhost:8080/",
          "height": 503
        }
      },
      "outputs": [
        {
          "output_type": "display_data",
          "data": {
            "text/html": [
              "<img src=\"https://github.com/leonardolima1000/expansao-da-airbnb-new-york/blob/main/mapa_04.JPG?raw=true\"/>"
            ],
            "text/plain": [
              "<IPython.core.display.Image object>"
            ]
          },
          "metadata": {}
        }
      ],
      "source": [
        "# selecionar colunas\n",
        "colunas = ['number_of_reviews', 'neighbourhood_group', 'latitude', 'longitude']\n",
        "colunas_groupby = ['neighbourhood_group']\n",
        "\n",
        "# criar os segmentos\n",
        "data_plot = data.loc[:, colunas].groupby(colunas_groupby).max().reset_index()\n",
        "\n",
        "# Desenhar o mapa\n",
        "map = folium.Map()\n",
        "\n",
        "# adicionar os pinos nos mapas\n",
        "for index, location_info in data_plot.iterrows():\n",
        "  folium.Marker([location_info['latitude'],\n",
        "  location_info['longitude']],\n",
        "  popup=location_info['neighbourhood_group']).add_to(map)\n",
        "\n",
        "# mostrar o mapa\n",
        "map\n",
        "\n",
        "# Exibindo o quarto mapa estático para visualização no github\n",
        "mapa_04 = 'https://github.com/leonardolima1000/expansao-da-airbnb-new-york/blob/main/mapa_04.JPG?raw=true'\n",
        "\n",
        "display(Image(url=mapa_04))"
      ]
    },
    {
      "cell_type": "markdown",
      "id": "9de9c575",
      "metadata": {
        "id": "9de9c575",
        "papermill": {
          "duration": 0.017493,
          "end_time": "2024-03-23T04:05:28.360874",
          "exception": false,
          "start_time": "2024-03-23T04:05:28.343381",
          "status": "completed"
        },
        "tags": []
      },
      "source": [
        "### 3.18\\. Desenhe um mapa somente com 100 imóveis do tipo “private room” escolhidos aleatoriamente."
      ]
    },
    {
      "cell_type": "code",
      "execution_count": 38,
      "id": "e1cbcc2d",
      "metadata": {
        "execution": {
          "iopub.execute_input": "2024-03-23T04:05:28.398859Z",
          "iopub.status.busy": "2024-03-23T04:05:28.398065Z",
          "iopub.status.idle": "2024-03-23T04:05:28.562451Z",
          "shell.execute_reply": "2024-03-23T04:05:28.561305Z"
        },
        "id": "e1cbcc2d",
        "outputId": "cde394ec-588f-4fe5-eee0-7dd87fd49d66",
        "papermill": {
          "duration": 0.188136,
          "end_time": "2024-03-23T04:05:28.566958",
          "exception": false,
          "start_time": "2024-03-23T04:05:28.378822",
          "status": "completed"
        },
        "tags": [],
        "colab": {
          "base_uri": "https://localhost:8080/",
          "height": 511
        }
      },
      "outputs": [
        {
          "output_type": "display_data",
          "data": {
            "text/html": [
              "<img src=\"https://github.com/leonardolima1000/expansao-da-airbnb-new-york/blob/main/mapa_05.JPG?raw=true\"/>"
            ],
            "text/plain": [
              "<IPython.core.display.Image object>"
            ]
          },
          "metadata": {}
        }
      ],
      "source": [
        "# selecionar colunas\n",
        "colunas = ['room_type', 'latitude', 'longitude']\n",
        "\n",
        "# selecionar linhas do tipo 'private room'\n",
        "linhas_private_room = data.loc[:, 'room_type'] == 'Private room'\n",
        "\n",
        "# selecionar dados para o mapa\n",
        "data_plot = data.loc[linhas_private_room, colunas].sample(100)\n",
        "\n",
        "# Desenhar o mapa\n",
        "map = folium.Map(#location=[data_plot['latitude'].mean(), data_plot['longitude'].mean()], zoom_start=14, control_scale=True\n",
        "                )\n",
        "\n",
        "# adicionar os pinos nos mapas\n",
        "for index, location_info in data_plot.iterrows():\n",
        "  folium.Marker([location_info['latitude'],\n",
        "  location_info['longitude']],\n",
        "  popup=location_info['room_type']).add_to(map)\n",
        "\n",
        "# mostrar o mapa\n",
        "map\n",
        "\n",
        "# Exibindo o quinto mapa estático para visualização no github\n",
        "mapa_05 = 'https://github.com/leonardolima1000/expansao-da-airbnb-new-york/blob/main/mapa_05.JPG?raw=true'\n",
        "\n",
        "display(Image(url=mapa_05))"
      ]
    },
    {
      "cell_type": "markdown",
      "id": "ea29508f",
      "metadata": {
        "id": "ea29508f",
        "papermill": {
          "duration": 0.020348,
          "end_time": "2024-03-23T04:05:28.608761",
          "exception": false,
          "start_time": "2024-03-23T04:05:28.588413",
          "status": "completed"
        },
        "tags": []
      },
      "source": [
        "### 3.19\\. Desenhe um mapa somente com 100 imóveis do tipo “shared room” escolhidos aleatoriamente."
      ]
    },
    {
      "cell_type": "code",
      "execution_count": 39,
      "id": "220328cf",
      "metadata": {
        "execution": {
          "iopub.execute_input": "2024-03-23T04:05:28.652760Z",
          "iopub.status.busy": "2024-03-23T04:05:28.652093Z",
          "iopub.status.idle": "2024-03-23T04:05:28.817777Z",
          "shell.execute_reply": "2024-03-23T04:05:28.816650Z"
        },
        "id": "220328cf",
        "outputId": "c5644457-45c4-4e38-9fa8-e0aa93cc5445",
        "papermill": {
          "duration": 0.192057,
          "end_time": "2024-03-23T04:05:28.821350",
          "exception": false,
          "start_time": "2024-03-23T04:05:28.629293",
          "status": "completed"
        },
        "tags": [],
        "colab": {
          "base_uri": "https://localhost:8080/",
          "height": 510
        }
      },
      "outputs": [
        {
          "output_type": "display_data",
          "data": {
            "text/html": [
              "<img src=\"https://github.com/leonardolima1000/expansao-da-airbnb-new-york/blob/main/mapa_06.JPG?raw=true\"/>"
            ],
            "text/plain": [
              "<IPython.core.display.Image object>"
            ]
          },
          "metadata": {}
        }
      ],
      "source": [
        "# selecionar colunas\n",
        "colunas = ['room_type', 'latitude', 'longitude']\n",
        "\n",
        "# selecionar linhas do tipo 'shared room'\n",
        "linhas_shared_room = data.loc[:, 'room_type'] == 'Shared room'\n",
        "\n",
        "# selecionar dados para o mapa\n",
        "data_plot = data.loc[linhas_shared_room, colunas].sample(100)\n",
        "\n",
        "# Desenhar o mapa\n",
        "map = folium.Map()\n",
        "\n",
        "# adicionar os pinos nos mapas\n",
        "for index, location_info in data_plot.iterrows():\n",
        "  folium.Marker([location_info['latitude'],\n",
        "  location_info['longitude']],\n",
        "  popup=location_info['room_type']).add_to(map)\n",
        "\n",
        "# mostrar o mapa\n",
        "map\n",
        "\n",
        "# Exibindo o sexto mapa estático para visualização no github\n",
        "mapa_06 = 'https://github.com/leonardolima1000/expansao-da-airbnb-new-york/blob/main/mapa_06.JPG?raw=true'\n",
        "\n",
        "display(Image(url=mapa_06))"
      ]
    }
  ],
  "metadata": {
    "colab": {
      "provenance": []
    },
    "kaggle": {
      "accelerator": "none",
      "dataSources": [
        {
          "datasetId": 4607061,
          "sourceId": 7854986,
          "sourceType": "datasetVersion"
        }
      ],
      "dockerImageVersionId": 30664,
      "isGpuEnabled": false,
      "isInternetEnabled": false,
      "language": "python",
      "sourceType": "notebook"
    },
    "kernelspec": {
      "display_name": "Python 3",
      "language": "python",
      "name": "python3"
    },
    "language_info": {
      "codemirror_mode": {
        "name": "ipython",
        "version": 3
      },
      "file_extension": ".py",
      "mimetype": "text/x-python",
      "name": "python",
      "nbconvert_exporter": "python",
      "pygments_lexer": "ipython3",
      "version": "3.10.13"
    },
    "papermill": {
      "default_parameters": {},
      "duration": 10.935929,
      "end_time": "2024-03-23T04:05:29.466118",
      "environment_variables": {},
      "exception": null,
      "input_path": "__notebook__.ipynb",
      "output_path": "__notebook__.ipynb",
      "parameters": {},
      "start_time": "2024-03-23T04:05:18.530189",
      "version": "2.5.0"
    }
  },
  "nbformat": 4,
  "nbformat_minor": 5
}